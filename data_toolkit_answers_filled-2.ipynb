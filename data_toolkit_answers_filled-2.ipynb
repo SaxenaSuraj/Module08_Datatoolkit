{
  "cells": [
    {
      "cell_type": "markdown",
      "source": [
        "#Theory Part"
      ],
      "metadata": {
        "id": "fmejRAK1POMZ"
      },
      "id": "fmejRAK1POMZ"
    },
    {
      "cell_type": "markdown",
      "id": "36d96e56",
      "metadata": {
        "id": "36d96e56"
      },
      "source": [
        "### Q: What is NumPy, and why is it widely used in Python"
      ]
    },
    {
      "cell_type": "code",
      "execution_count": 1,
      "id": "6894363f",
      "metadata": {
        "colab": {
          "base_uri": "https://localhost:8080/",
          "height": 52
        },
        "id": "6894363f",
        "outputId": "747bb4b4-4cbf-4f1b-e9d6-151c13a0090d"
      },
      "outputs": [
        {
          "output_type": "execute_result",
          "data": {
            "text/plain": [
              "'\\nNumPy is a Python library for numerical computing. It provides support for arrays, matrices, and a large number of mathematical functions to operate on these data structures. It is widely used due to its speed, efficiency, and ease of integration with other Python libraries.\\n'"
            ],
            "application/vnd.google.colaboratory.intrinsic+json": {
              "type": "string"
            }
          },
          "metadata": {},
          "execution_count": 1
        }
      ],
      "source": [
        "# Answer for: What is NumPy, and why is it widely used in Python\n",
        "\"\"\"\n",
        "NumPy is a Python library for numerical computing. It provides support for arrays, matrices, and a large number of mathematical functions to operate on these data structures. It is widely used due to its speed, efficiency, and ease of integration with other Python libraries.\n",
        "\"\"\""
      ]
    },
    {
      "cell_type": "markdown",
      "id": "2a34d7c7",
      "metadata": {
        "id": "2a34d7c7"
      },
      "source": [
        "### Q: How does broadcasting work in NumPy"
      ]
    },
    {
      "cell_type": "code",
      "execution_count": 2,
      "id": "e1d1c5a6",
      "metadata": {
        "colab": {
          "base_uri": "https://localhost:8080/",
          "height": 52
        },
        "id": "e1d1c5a6",
        "outputId": "36dd761a-b48e-490d-a367-8a030b3a0e00"
      },
      "outputs": [
        {
          "output_type": "execute_result",
          "data": {
            "text/plain": [
              "\"\\nBroadcasting in NumPy refers to the ability of the library to perform operations on arrays of different shapes and sizes. Smaller arrays are 'broadcast' over larger ones to perform element-wise operations without explicit looping.\\n\""
            ],
            "application/vnd.google.colaboratory.intrinsic+json": {
              "type": "string"
            }
          },
          "metadata": {},
          "execution_count": 2
        }
      ],
      "source": [
        "# Answer for: How does broadcasting work in NumPy\n",
        "\"\"\"\n",
        "Broadcasting in NumPy refers to the ability of the library to perform operations on arrays of different shapes and sizes. Smaller arrays are 'broadcast' over larger ones to perform element-wise operations without explicit looping.\n",
        "\"\"\""
      ]
    },
    {
      "cell_type": "markdown",
      "id": "05ce684e",
      "metadata": {
        "id": "05ce684e"
      },
      "source": [
        "### Q: What is a Pandas DataFrame"
      ]
    },
    {
      "cell_type": "code",
      "execution_count": 3,
      "id": "519a3628",
      "metadata": {
        "colab": {
          "base_uri": "https://localhost:8080/",
          "height": 52
        },
        "id": "519a3628",
        "outputId": "882f861e-e38c-4f9c-cb36-ac3c086d602d"
      },
      "outputs": [
        {
          "output_type": "execute_result",
          "data": {
            "text/plain": [
              "'\\nA Pandas DataFrame is a two-dimensional, size-mutable, and heterogeneous data structure with labeled axes (rows and columns). It is similar to a table or a spreadsheet.\\n'"
            ],
            "application/vnd.google.colaboratory.intrinsic+json": {
              "type": "string"
            }
          },
          "metadata": {},
          "execution_count": 3
        }
      ],
      "source": [
        "# Answer for: What is a Pandas DataFrame\n",
        "\"\"\"\n",
        "A Pandas DataFrame is a two-dimensional, size-mutable, and heterogeneous data structure with labeled axes (rows and columns). It is similar to a table or a spreadsheet.\n",
        "\"\"\""
      ]
    },
    {
      "cell_type": "markdown",
      "id": "203ac147",
      "metadata": {
        "id": "203ac147"
      },
      "source": [
        "### Q: Explain the use of the groupby() method in Pandas"
      ]
    },
    {
      "cell_type": "code",
      "execution_count": 4,
      "id": "66a7ee4b",
      "metadata": {
        "colab": {
          "base_uri": "https://localhost:8080/",
          "height": 52
        },
        "id": "66a7ee4b",
        "outputId": "97f3e2dc-4407-4c72-db9f-0baaa23181cf"
      },
      "outputs": [
        {
          "output_type": "execute_result",
          "data": {
            "text/plain": [
              "'\\nThe groupby() method in Pandas is used to split the data into groups based on some criteria, apply a function to each group, and then combine the results. It is used for aggregation and transformation of data.\\n'"
            ],
            "application/vnd.google.colaboratory.intrinsic+json": {
              "type": "string"
            }
          },
          "metadata": {},
          "execution_count": 4
        }
      ],
      "source": [
        "# Answer for: Explain the use of the groupby() method in Pandas\n",
        "\"\"\"\n",
        "The groupby() method in Pandas is used to split the data into groups based on some criteria, apply a function to each group, and then combine the results. It is used for aggregation and transformation of data.\n",
        "\"\"\""
      ]
    },
    {
      "cell_type": "markdown",
      "id": "f587bccf",
      "metadata": {
        "id": "f587bccf"
      },
      "source": [
        "### Q: Why is Seaborn preferred for statistical visualizations"
      ]
    },
    {
      "cell_type": "code",
      "execution_count": 5,
      "id": "234e7aab",
      "metadata": {
        "colab": {
          "base_uri": "https://localhost:8080/",
          "height": 52
        },
        "id": "234e7aab",
        "outputId": "e07ed337-cb4b-445d-d658-04ef5eb437a0"
      },
      "outputs": [
        {
          "output_type": "execute_result",
          "data": {
            "text/plain": [
              "'\\nSeaborn is preferred for statistical visualizations because it provides high-level interface for drawing attractive and informative statistical graphics. It integrates well with Pandas and simplifies many complex plots.\\n'"
            ],
            "application/vnd.google.colaboratory.intrinsic+json": {
              "type": "string"
            }
          },
          "metadata": {},
          "execution_count": 5
        }
      ],
      "source": [
        "# Answer for: Why is Seaborn preferred for statistical visualizations\n",
        "\"\"\"\n",
        "Seaborn is preferred for statistical visualizations because it provides high-level interface for drawing attractive and informative statistical graphics. It integrates well with Pandas and simplifies many complex plots.\n",
        "\"\"\""
      ]
    },
    {
      "cell_type": "markdown",
      "id": "9cec1538",
      "metadata": {
        "id": "9cec1538"
      },
      "source": [
        "### Q: What are the differences between NumPy arrays and Python lists"
      ]
    },
    {
      "cell_type": "code",
      "execution_count": 6,
      "id": "9e5e0d62",
      "metadata": {
        "colab": {
          "base_uri": "https://localhost:8080/",
          "height": 52
        },
        "id": "9e5e0d62",
        "outputId": "86a28c52-5d7a-43ab-f6eb-474b6acfe60e"
      },
      "outputs": [
        {
          "output_type": "execute_result",
          "data": {
            "text/plain": [
              "'\\nNumPy arrays are more efficient, support vectorized operations, and are homogeneous in type. Python lists are more flexible, but less efficient and do not support vectorized operations.\\n'"
            ],
            "application/vnd.google.colaboratory.intrinsic+json": {
              "type": "string"
            }
          },
          "metadata": {},
          "execution_count": 6
        }
      ],
      "source": [
        "# Answer for: What are the differences between NumPy arrays and Python lists\n",
        "\"\"\"\n",
        "NumPy arrays are more efficient, support vectorized operations, and are homogeneous in type. Python lists are more flexible, but less efficient and do not support vectorized operations.\n",
        "\"\"\""
      ]
    },
    {
      "cell_type": "markdown",
      "id": "2f327e97",
      "metadata": {
        "id": "2f327e97"
      },
      "source": [
        "### Q: What is a heatmap, and when should it be used"
      ]
    },
    {
      "cell_type": "code",
      "execution_count": 7,
      "id": "55b79398",
      "metadata": {
        "colab": {
          "base_uri": "https://localhost:8080/",
          "height": 52
        },
        "id": "55b79398",
        "outputId": "e1d15490-f5da-4cb2-9e0e-3ef3db85aa6a"
      },
      "outputs": [
        {
          "output_type": "execute_result",
          "data": {
            "text/plain": [
              "'\\nA heatmap is a data visualization technique that shows the magnitude of a phenomenon as color in two dimensions. It is useful for visualizing correlation matrices, frequency tables, or any 2D dataset.\\n'"
            ],
            "application/vnd.google.colaboratory.intrinsic+json": {
              "type": "string"
            }
          },
          "metadata": {},
          "execution_count": 7
        }
      ],
      "source": [
        "# Answer for: What is a heatmap, and when should it be used\n",
        "\"\"\"\n",
        "A heatmap is a data visualization technique that shows the magnitude of a phenomenon as color in two dimensions. It is useful for visualizing correlation matrices, frequency tables, or any 2D dataset.\n",
        "\"\"\""
      ]
    },
    {
      "cell_type": "markdown",
      "id": "71ba7498",
      "metadata": {
        "id": "71ba7498"
      },
      "source": [
        "### Q: What does the term “vectorized operation” mean in NumPy"
      ]
    },
    {
      "cell_type": "code",
      "execution_count": 8,
      "id": "137d72e9",
      "metadata": {
        "colab": {
          "base_uri": "https://localhost:8080/",
          "height": 52
        },
        "id": "137d72e9",
        "outputId": "08e816b2-5ade-4721-9f14-59793eec7f67"
      },
      "outputs": [
        {
          "output_type": "execute_result",
          "data": {
            "text/plain": [
              "'\\nVectorized operations in NumPy mean performing operations on entire arrays instead of individual elements. This improves performance by leveraging low-level optimizations.\\n'"
            ],
            "application/vnd.google.colaboratory.intrinsic+json": {
              "type": "string"
            }
          },
          "metadata": {},
          "execution_count": 8
        }
      ],
      "source": [
        "# Answer for: What does the term “vectorized operation” mean in NumPy\n",
        "\"\"\"\n",
        "Vectorized operations in NumPy mean performing operations on entire arrays instead of individual elements. This improves performance by leveraging low-level optimizations.\n",
        "\"\"\""
      ]
    },
    {
      "cell_type": "markdown",
      "id": "061cd5c1",
      "metadata": {
        "id": "061cd5c1"
      },
      "source": [
        "### Q: How does Matplotlib differ from Plotly"
      ]
    },
    {
      "cell_type": "code",
      "execution_count": 9,
      "id": "aefb09ef",
      "metadata": {
        "colab": {
          "base_uri": "https://localhost:8080/",
          "height": 52
        },
        "id": "aefb09ef",
        "outputId": "e4a85af7-f719-48b8-8f58-59c930026056"
      },
      "outputs": [
        {
          "output_type": "execute_result",
          "data": {
            "text/plain": [
              "'\\nMatplotlib is a static, 2D plotting library, whereas Plotly provides interactive visualizations and supports 3D plotting and dashboards.\\n'"
            ],
            "application/vnd.google.colaboratory.intrinsic+json": {
              "type": "string"
            }
          },
          "metadata": {},
          "execution_count": 9
        }
      ],
      "source": [
        "# Answer for: How does Matplotlib differ from Plotly\n",
        "\"\"\"\n",
        "Matplotlib is a static, 2D plotting library, whereas Plotly provides interactive visualizations and supports 3D plotting and dashboards.\n",
        "\"\"\""
      ]
    },
    {
      "cell_type": "markdown",
      "id": "50a6a86d",
      "metadata": {
        "id": "50a6a86d"
      },
      "source": [
        "### Q: What is the significance of hierarchical indexing in Pandas"
      ]
    },
    {
      "cell_type": "code",
      "execution_count": 10,
      "id": "9e07b59b",
      "metadata": {
        "colab": {
          "base_uri": "https://localhost:8080/",
          "height": 52
        },
        "id": "9e07b59b",
        "outputId": "009c421d-9b7d-4adb-e26c-98632d6bd205"
      },
      "outputs": [
        {
          "output_type": "execute_result",
          "data": {
            "text/plain": [
              "'\\nHierarchical indexing in Pandas allows for multiple levels of indexing within a single axis. This enables working with higher dimensional data in a lower-dimensional data structure.\\n'"
            ],
            "application/vnd.google.colaboratory.intrinsic+json": {
              "type": "string"
            }
          },
          "metadata": {},
          "execution_count": 10
        }
      ],
      "source": [
        "# Answer for: What is the significance of hierarchical indexing in Pandas\n",
        "\"\"\"\n",
        "Hierarchical indexing in Pandas allows for multiple levels of indexing within a single axis. This enables working with higher dimensional data in a lower-dimensional data structure.\n",
        "\"\"\""
      ]
    },
    {
      "cell_type": "markdown",
      "id": "de3bff0a",
      "metadata": {
        "id": "de3bff0a"
      },
      "source": [
        "### Q: What is the role of Seaborn’s pairplot() function"
      ]
    },
    {
      "cell_type": "code",
      "execution_count": 11,
      "id": "896fa8aa",
      "metadata": {
        "colab": {
          "base_uri": "https://localhost:8080/",
          "height": 52
        },
        "id": "896fa8aa",
        "outputId": "099e878f-99a2-4453-843f-7fdeff1d93ef"
      },
      "outputs": [
        {
          "output_type": "execute_result",
          "data": {
            "text/plain": [
              "'\\nSeaborn’s pairplot() function is used to create a matrix of scatter plots to show pairwise relationships in a dataset. It is useful for exploring relationships between multiple variables.\\n'"
            ],
            "application/vnd.google.colaboratory.intrinsic+json": {
              "type": "string"
            }
          },
          "metadata": {},
          "execution_count": 11
        }
      ],
      "source": [
        "# Answer for: What is the role of Seaborn’s pairplot() function\n",
        "\"\"\"\n",
        "Seaborn’s pairplot() function is used to create a matrix of scatter plots to show pairwise relationships in a dataset. It is useful for exploring relationships between multiple variables.\n",
        "\"\"\""
      ]
    },
    {
      "cell_type": "markdown",
      "id": "c7742907",
      "metadata": {
        "id": "c7742907"
      },
      "source": [
        "### Q: What is the purpose of the describe() function in Pandas"
      ]
    },
    {
      "cell_type": "code",
      "execution_count": 12,
      "id": "9d358811",
      "metadata": {
        "colab": {
          "base_uri": "https://localhost:8080/",
          "height": 52
        },
        "id": "9d358811",
        "outputId": "72ea6aef-92b4-4cb2-d21f-2a090b6c330a"
      },
      "outputs": [
        {
          "output_type": "execute_result",
          "data": {
            "text/plain": [
              "'\\nThe describe() function in Pandas generates descriptive statistics of a DataFrame including count, mean, std deviation, min, max, and quartiles. It is useful for quick data exploration.\\n'"
            ],
            "application/vnd.google.colaboratory.intrinsic+json": {
              "type": "string"
            }
          },
          "metadata": {},
          "execution_count": 12
        }
      ],
      "source": [
        "# Answer for: What is the purpose of the describe() function in Pandas\n",
        "\"\"\"\n",
        "The describe() function in Pandas generates descriptive statistics of a DataFrame including count, mean, std deviation, min, max, and quartiles. It is useful for quick data exploration.\n",
        "\"\"\""
      ]
    },
    {
      "cell_type": "markdown",
      "id": "d44d1261",
      "metadata": {
        "id": "d44d1261"
      },
      "source": [
        "### Q: Why is handling missing data important in Pandas"
      ]
    },
    {
      "cell_type": "code",
      "execution_count": 13,
      "id": "57ff06b9",
      "metadata": {
        "colab": {
          "base_uri": "https://localhost:8080/",
          "height": 52
        },
        "id": "57ff06b9",
        "outputId": "e88aa144-1bcc-4b05-978e-8631d4041db9"
      },
      "outputs": [
        {
          "output_type": "execute_result",
          "data": {
            "text/plain": [
              "'\\nHandling missing data is crucial in Pandas to avoid incorrect analysis or results. Methods like dropna(), fillna(), and interpolation help manage missing values effectively.\\n'"
            ],
            "application/vnd.google.colaboratory.intrinsic+json": {
              "type": "string"
            }
          },
          "metadata": {},
          "execution_count": 13
        }
      ],
      "source": [
        "# Answer for: Why is handling missing data important in Pandas\n",
        "\"\"\"\n",
        "Handling missing data is crucial in Pandas to avoid incorrect analysis or results. Methods like dropna(), fillna(), and interpolation help manage missing values effectively.\n",
        "\"\"\""
      ]
    },
    {
      "cell_type": "markdown",
      "id": "6d05eaad",
      "metadata": {
        "id": "6d05eaad"
      },
      "source": [
        "### Q: What are the benefits of using Plotly for data visualization"
      ]
    },
    {
      "cell_type": "code",
      "execution_count": 14,
      "id": "2eb4e464",
      "metadata": {
        "colab": {
          "base_uri": "https://localhost:8080/",
          "height": 52
        },
        "id": "2eb4e464",
        "outputId": "cda32bca-6cc1-4592-80a8-bb8867744b21"
      },
      "outputs": [
        {
          "output_type": "execute_result",
          "data": {
            "text/plain": [
              "'\\nPlotly offers interactive plots, supports dashboards and 3D visualizations, and is great for web-based applications. It requires minimal coding for high-quality outputs.\\n'"
            ],
            "application/vnd.google.colaboratory.intrinsic+json": {
              "type": "string"
            }
          },
          "metadata": {},
          "execution_count": 14
        }
      ],
      "source": [
        "# Answer for: What are the benefits of using Plotly for data visualization\n",
        "\"\"\"\n",
        "Plotly offers interactive plots, supports dashboards and 3D visualizations, and is great for web-based applications. It requires minimal coding for high-quality outputs.\n",
        "\"\"\""
      ]
    },
    {
      "cell_type": "markdown",
      "id": "bcecd6e1",
      "metadata": {
        "id": "bcecd6e1"
      },
      "source": [
        "### Q: How does NumPy handle multidimensional arrays"
      ]
    },
    {
      "cell_type": "code",
      "execution_count": 15,
      "id": "9ab7d957",
      "metadata": {
        "colab": {
          "base_uri": "https://localhost:8080/",
          "height": 52
        },
        "id": "9ab7d957",
        "outputId": "c9d7af2c-b411-4bdc-effe-ab96a6d6dde6"
      },
      "outputs": [
        {
          "output_type": "execute_result",
          "data": {
            "text/plain": [
              "'\\nNumPy handles multidimensional arrays using ndarray. These arrays support slicing, reshaping, and a variety of mathematical operations efficiently.\\n'"
            ],
            "application/vnd.google.colaboratory.intrinsic+json": {
              "type": "string"
            }
          },
          "metadata": {},
          "execution_count": 15
        }
      ],
      "source": [
        "# Answer for: How does NumPy handle multidimensional arrays\n",
        "\"\"\"\n",
        "NumPy handles multidimensional arrays using ndarray. These arrays support slicing, reshaping, and a variety of mathematical operations efficiently.\n",
        "\"\"\""
      ]
    },
    {
      "cell_type": "markdown",
      "id": "33cf26e2",
      "metadata": {
        "id": "33cf26e2"
      },
      "source": [
        "### Q: What is the role of Bokeh in data visualization"
      ]
    },
    {
      "cell_type": "code",
      "execution_count": 16,
      "id": "4bbd1471",
      "metadata": {
        "colab": {
          "base_uri": "https://localhost:8080/",
          "height": 52
        },
        "id": "4bbd1471",
        "outputId": "ce681bfe-009f-4f2b-dc70-cef88a2d42f5"
      },
      "outputs": [
        {
          "output_type": "execute_result",
          "data": {
            "text/plain": [
              "'\\nBokeh is a Python interactive visualization library that targets modern web browsers for presentation. It is useful for building interactive dashboards and visualizations.\\n'"
            ],
            "application/vnd.google.colaboratory.intrinsic+json": {
              "type": "string"
            }
          },
          "metadata": {},
          "execution_count": 16
        }
      ],
      "source": [
        "# Answer for: What is the role of Bokeh in data visualization\n",
        "\"\"\"\n",
        "Bokeh is a Python interactive visualization library that targets modern web browsers for presentation. It is useful for building interactive dashboards and visualizations.\n",
        "\"\"\""
      ]
    },
    {
      "cell_type": "markdown",
      "id": "b1f3a59c",
      "metadata": {
        "id": "b1f3a59c"
      },
      "source": [
        "### Q: Explain the difference between apply() and map() in Pandas"
      ]
    },
    {
      "cell_type": "code",
      "execution_count": 17,
      "id": "3f3023f3",
      "metadata": {
        "colab": {
          "base_uri": "https://localhost:8080/",
          "height": 52
        },
        "id": "3f3023f3",
        "outputId": "e817e4f8-0068-4395-9b85-e649d3cfd9fa"
      },
      "outputs": [
        {
          "output_type": "execute_result",
          "data": {
            "text/plain": [
              "'\\napply() is used to apply a function along an axis of the DataFrame, while map() is used to substitute each value in a Series with another value. apply() is more flexible.\\n'"
            ],
            "application/vnd.google.colaboratory.intrinsic+json": {
              "type": "string"
            }
          },
          "metadata": {},
          "execution_count": 17
        }
      ],
      "source": [
        "# Answer for: Explain the difference between apply() and map() in Pandas\n",
        "\"\"\"\n",
        "apply() is used to apply a function along an axis of the DataFrame, while map() is used to substitute each value in a Series with another value. apply() is more flexible.\n",
        "\"\"\""
      ]
    },
    {
      "cell_type": "markdown",
      "id": "56dd00b1",
      "metadata": {
        "id": "56dd00b1"
      },
      "source": [
        "### Q: What are some advanced features of NumPy"
      ]
    },
    {
      "cell_type": "code",
      "execution_count": 18,
      "id": "b6e2a2f8",
      "metadata": {
        "colab": {
          "base_uri": "https://localhost:8080/",
          "height": 35
        },
        "id": "b6e2a2f8",
        "outputId": "6c8299ea-81b7-48c6-b861-4933ce8f8d82"
      },
      "outputs": [
        {
          "output_type": "execute_result",
          "data": {
            "text/plain": [
              "'\\nAdvanced features of NumPy include broadcasting, masked arrays, memory-mapping large files, FFTs, linear algebra operations, and more.\\n'"
            ],
            "application/vnd.google.colaboratory.intrinsic+json": {
              "type": "string"
            }
          },
          "metadata": {},
          "execution_count": 18
        }
      ],
      "source": [
        "# Answer for: What are some advanced features of NumPy\n",
        "\"\"\"\n",
        "Advanced features of NumPy include broadcasting, masked arrays, memory-mapping large files, FFTs, linear algebra operations, and more.\n",
        "\"\"\""
      ]
    },
    {
      "cell_type": "markdown",
      "id": "7a673f46",
      "metadata": {
        "id": "7a673f46"
      },
      "source": [
        "### Q: How does Pandas simplify time series analysis"
      ]
    },
    {
      "cell_type": "code",
      "execution_count": 19,
      "id": "eaaab3ee",
      "metadata": {
        "colab": {
          "base_uri": "https://localhost:8080/",
          "height": 52
        },
        "id": "eaaab3ee",
        "outputId": "c6cf098b-39e2-4069-f07e-bfe394dfb0ce"
      },
      "outputs": [
        {
          "output_type": "execute_result",
          "data": {
            "text/plain": [
              "'\\nPandas simplifies time series analysis through date parsing, resampling, time zone handling, shifting/lagging, and rolling window statistics.\\n'"
            ],
            "application/vnd.google.colaboratory.intrinsic+json": {
              "type": "string"
            }
          },
          "metadata": {},
          "execution_count": 19
        }
      ],
      "source": [
        "# Answer for: How does Pandas simplify time series analysis\n",
        "\"\"\"\n",
        "Pandas simplifies time series analysis through date parsing, resampling, time zone handling, shifting/lagging, and rolling window statistics.\n",
        "\"\"\""
      ]
    },
    {
      "cell_type": "markdown",
      "id": "42a4b43e",
      "metadata": {
        "id": "42a4b43e"
      },
      "source": [
        "### Q: What is the role of a pivot table in Pandas"
      ]
    },
    {
      "cell_type": "code",
      "execution_count": 20,
      "id": "8cb5cead",
      "metadata": {
        "colab": {
          "base_uri": "https://localhost:8080/",
          "height": 52
        },
        "id": "8cb5cead",
        "outputId": "e89b5a94-f261-4718-ff0c-02a12421ee25"
      },
      "outputs": [
        {
          "output_type": "execute_result",
          "data": {
            "text/plain": [
              "'\\nPivot tables in Pandas allow summarizing and analyzing data by transforming or reshaping it. They are useful for data aggregation and reporting.\\n'"
            ],
            "application/vnd.google.colaboratory.intrinsic+json": {
              "type": "string"
            }
          },
          "metadata": {},
          "execution_count": 20
        }
      ],
      "source": [
        "# Answer for: What is the role of a pivot table in Pandas\n",
        "\"\"\"\n",
        "Pivot tables in Pandas allow summarizing and analyzing data by transforming or reshaping it. They are useful for data aggregation and reporting.\n",
        "\"\"\""
      ]
    },
    {
      "cell_type": "markdown",
      "id": "102f4426",
      "metadata": {
        "id": "102f4426"
      },
      "source": [
        "### Q: Why is NumPy’s array slicing faster than Python’s list slicing"
      ]
    },
    {
      "cell_type": "code",
      "execution_count": 21,
      "id": "d6eb2aa1",
      "metadata": {
        "colab": {
          "base_uri": "https://localhost:8080/",
          "height": 35
        },
        "id": "d6eb2aa1",
        "outputId": "461cec56-1d98-4ed5-db5e-e47b92b85784"
      },
      "outputs": [
        {
          "output_type": "execute_result",
          "data": {
            "text/plain": [
              "'\\nNumPy slicing is faster because it uses views instead of copies and is implemented in C, avoiding Python-level loops.\\n'"
            ],
            "application/vnd.google.colaboratory.intrinsic+json": {
              "type": "string"
            }
          },
          "metadata": {},
          "execution_count": 21
        }
      ],
      "source": [
        "# Answer for: Why is NumPy’s array slicing faster than Python’s list slicing\n",
        "\"\"\"\n",
        "NumPy slicing is faster because it uses views instead of copies and is implemented in C, avoiding Python-level loops.\n",
        "\"\"\""
      ]
    },
    {
      "cell_type": "markdown",
      "id": "427be0e6",
      "metadata": {
        "id": "427be0e6"
      },
      "source": [
        "### Q: What are some common use cases for Seaborn?"
      ]
    },
    {
      "cell_type": "code",
      "execution_count": 22,
      "id": "18698563",
      "metadata": {
        "colab": {
          "base_uri": "https://localhost:8080/",
          "height": 35
        },
        "id": "18698563",
        "outputId": "858e0474-7917-4b02-8240-81a69fdc4c81"
      },
      "outputs": [
        {
          "output_type": "execute_result",
          "data": {
            "text/plain": [
              "'\\nSeaborn is commonly used for correlation heatmaps, box plots, violin plots, pair plots, and regression plots in statistical analysis.\\n'"
            ],
            "application/vnd.google.colaboratory.intrinsic+json": {
              "type": "string"
            }
          },
          "metadata": {},
          "execution_count": 22
        }
      ],
      "source": [
        "# Answer for: What are some common use cases for Seaborn?\n",
        "\"\"\"\n",
        "Seaborn is commonly used for correlation heatmaps, box plots, violin plots, pair plots, and regression plots in statistical analysis.\n",
        "\"\"\""
      ]
    },
    {
      "cell_type": "markdown",
      "source": [
        "#Practical Part"
      ],
      "metadata": {
        "id": "m7Bx3r7GPo42"
      },
      "id": "m7Bx3r7GPo42"
    },
    {
      "cell_type": "markdown",
      "id": "9e10e36d",
      "metadata": {
        "id": "9e10e36d"
      },
      "source": [
        "### Q: How do you create a 2D NumPy array and calculate the sum of each row"
      ]
    },
    {
      "cell_type": "code",
      "execution_count": 23,
      "id": "515ab735",
      "metadata": {
        "colab": {
          "base_uri": "https://localhost:8080/"
        },
        "id": "515ab735",
        "outputId": "45470027-6fbc-46a4-b524-730ec9adfd35"
      },
      "outputs": [
        {
          "output_type": "stream",
          "name": "stdout",
          "text": [
            "[ 6 15]\n"
          ]
        }
      ],
      "source": [
        "import numpy as np\n",
        "arr = np.array([[1, 2, 3], [4, 5, 6]])\n",
        "row_sums = arr.sum(axis=1)\n",
        "print(row_sums)"
      ]
    },
    {
      "cell_type": "markdown",
      "id": "9cd52586",
      "metadata": {
        "id": "9cd52586"
      },
      "source": [
        "### Q: Write a Pandas script to find the mean of a specific column in a DataFrame"
      ]
    },
    {
      "cell_type": "code",
      "execution_count": 24,
      "id": "9091709c",
      "metadata": {
        "colab": {
          "base_uri": "https://localhost:8080/"
        },
        "id": "9091709c",
        "outputId": "b5f54217-a1cd-46cb-9ebf-e4a6f72ae707"
      },
      "outputs": [
        {
          "output_type": "stream",
          "name": "stdout",
          "text": [
            "25.0\n"
          ]
        }
      ],
      "source": [
        "import pandas as pd\n",
        "df = pd.DataFrame({'A': [10, 20, 30, 40]})\n",
        "print(df['A'].mean())"
      ]
    },
    {
      "cell_type": "markdown",
      "id": "10de7c94",
      "metadata": {
        "id": "10de7c94"
      },
      "source": [
        "### Q: Create a scatter plot using Matplotlib"
      ]
    },
    {
      "cell_type": "code",
      "execution_count": 25,
      "id": "741b9936",
      "metadata": {
        "colab": {
          "base_uri": "https://localhost:8080/",
          "height": 472
        },
        "id": "741b9936",
        "outputId": "8e6d1791-37c4-4b3c-d541-408ec83264dc"
      },
      "outputs": [
        {
          "output_type": "display_data",
          "data": {
            "text/plain": [
              "<Figure size 640x480 with 1 Axes>"
            ],
            "image/png": "[encoded data removed]"
          },
          "metadata": {}
        }
      ],
      "source": [
        "import matplotlib.pyplot as plt\n",
        "x = [1, 2, 3, 4]\n",
        "y = [10, 20, 25, 30]\n",
        "plt.scatter(x, y)\n",
        "plt.xlabel('X')\n",
        "plt.ylabel('Y')\n",
        "plt.title('Scatter Plot')\n",
        "plt.show()"
      ]
    },
    {
      "cell_type": "markdown",
      "id": "8bf1b65c",
      "metadata": {
        "id": "8bf1b65c"
      },
      "source": [
        "### Q: How do you calculate the correlation matrix using Seaborn and visualize it with a heatmap"
      ]
    },
    {
      "cell_type": "code",
      "execution_count": 26,
      "id": "145b47e8",
      "metadata": {
        "colab": {
          "base_uri": "https://localhost:8080/",
          "height": 452
        },
        "id": "145b47e8",
        "outputId": "665815d3-1c27-49d9-9efe-7c4d75e88fe2"
      },
      "outputs": [
        {
          "output_type": "display_data",
          "data": {
            "text/plain": [
              "<Figure size 640x480 with 2 Axes>"
            ],
            "image/png": "[encoded data removed]"
          },
          "metadata": {}
        }
      ],
      "source": [
        "import seaborn as sns\n",
        "import pandas as pd\n",
        "data = sns.load_dataset('iris')\n",
        "corr = data.corr(numeric_only=True)\n",
        "sns.heatmap(corr, annot=True, cmap='coolwarm')\n",
        "plt.title('Correlation Heatmap')\n",
        "plt.show()"
      ]
    },
    {
      "cell_type": "markdown",
      "id": "d8e78042",
      "metadata": {
        "id": "d8e78042"
      },
      "source": [
        "### Q: Generate a bar plot using Plotly"
      ]
    },
    {
      "cell_type": "code",
      "execution_count": 27,
      "id": "05d01e06",
      "metadata": {
        "colab": {
          "base_uri": "https://localhost:8080/",
          "height": 542
        },
        "id": "05d01e06",
        "outputId": "92d0f89c-c346-404c-a751-771f60311abb"
      },
      "outputs": [
        {
          "output_type": "display_data",
          "data": {
            "text/html": [
              "<html>\n",
              "<head><meta charset=\"utf-8\" /></head>\n",
              "<body>\n",
              "    <div>            <script src=\"https://cdnjs.cloudflare.com/ajax/libs/mathjax/2.7.5/MathJax.js?config=TeX-AMS-MML_SVG\"></script><script type=\"text/javascript\">if (window.MathJax && window.MathJax.Hub && window.MathJax.Hub.Config) {window.MathJax.Hub.Config({SVG: {font: \"STIX-Web\"}});}</script>                <script type=\"text/javascript\">window.PlotlyConfig = {MathJaxConfig: 'local'};</script>\n",
              "        <script charset=\"utf-8\" src=\"https://cdn.plot.ly/plotly-2.35.2.min.js\"></script>                <div id=\"d129c160-0d46-438e-8fe1-36d37a0d6275\" class=\"plotly-graph-div\" style=\"height:525px; width:100%;\"></div>            <script type=\"text/javascript\">                                    window.PLOTLYENV=window.PLOTLYENV || {};                                    if (document.getElementById(\"d129c160-0d46-438e-8fe1-36d37a0d6275\")) {                    Plotly.newPlot(                        \"d129c160-0d46-438e-8fe1-36d37a0d6275\",                        [{\"alignmentgroup\":\"True\",\"hovertemplate\":\"Category=%{x}\\u003cbr\\u003eValues=%{y}\\u003cextra\\u003e\\u003c\\u002fextra\\u003e\",\"legendgroup\":\"\",\"marker\":{\"color\":\"#636efa\",\"pattern\":{\"shape\":\"\"}},\"name\":\"\",\"offsetgroup\":\"\",\"orientation\":\"v\",\"showlegend\":false,\"textposition\":\"auto\",\"x\":[\"A\",\"B\",\"C\"],\"xaxis\":\"x\",\"y\":[10,20,15],\"yaxis\":\"y\",\"type\":\"bar\"}],                        {\"template\":{\"data\":{\"histogram2dcontour\":[{\"type\":\"histogram2dcontour\",\"colorbar\":{\"outlinewidth\":0,\"ticks\":\"\"},\"colorscale\":[[0.0,\"#0d0887\"],[0.1111111111111111,\"#46039f\"],[0.2222222222222222,\"#7201a8\"],[0.3333333333333333,\"#9c179e\"],[0.4444444444444444,\"#bd3786\"],[0.5555555555555556,\"#d8576b\"],[0.6666666666666666,\"#ed7953\"],[0.7777777777777778,\"#fb9f3a\"],[0.8888888888888888,\"#fdca26\"],[1.0,\"#f0f921\"]]}],\"choropleth\":[{\"type\":\"choropleth\",\"colorbar\":{\"outlinewidth\":0,\"ticks\":\"\"}}],\"histogram2d\":[{\"type\":\"histogram2d\",\"colorbar\":{\"outlinewidth\":0,\"ticks\":\"\"},\"colorscale\":[[0.0,\"#0d0887\"],[0.1111111111111111,\"#46039f\"],[0.2222222222222222,\"#7201a8\"],[0.3333333333333333,\"#9c179e\"],[0.4444444444444444,\"#bd3786\"],[0.5555555555555556,\"#d8576b\"],[0.6666666666666666,\"#ed7953\"],[0.7777777777777778,\"#fb9f3a\"],[0.8888888888888888,\"#fdca26\"],[1.0,\"#f0f921\"]]}],\"heatmap\":[{\"type\":\"heatmap\",\"colorbar\":{\"outlinewidth\":0,\"ticks\":\"\"},\"colorscale\":[[0.0,\"#0d0887\"],[0.1111111111111111,\"#46039f\"],[0.2222222222222222,\"#7201a8\"],[0.3333333333333333,\"#9c179e\"],[0.4444444444444444,\"#bd3786\"],[0.5555555555555556,\"#d8576b\"],[0.6666666666666666,\"#ed7953\"],[0.7777777777777778,\"#fb9f3a\"],[0.8888888888888888,\"#fdca26\"],[1.0,\"#f0f921\"]]}],\"heatmapgl\":[{\"type\":\"heatmapgl\",\"colorbar\":{\"outlinewidth\":0,\"ticks\":\"\"},\"colorscale\":[[0.0,\"#0d0887\"],[0.1111111111111111,\"#46039f\"],[0.2222222222222222,\"#7201a8\"],[0.3333333333333333,\"#9c179e\"],[0.4444444444444444,\"#bd3786\"],[0.5555555555555556,\"#d8576b\"],[0.6666666666666666,\"#ed7953\"],[0.7777777777777778,\"#fb9f3a\"],[0.8888888888888888,\"#fdca26\"],[1.0,\"#f0f921\"]]}],\"contourcarpet\":[{\"type\":\"contourcarpet\",\"colorbar\":{\"outlinewidth\":0,\"ticks\":\"\"}}],\"contour\":[{\"type\":\"contour\",\"colorbar\":{\"outlinewidth\":0,\"ticks\":\"\"},\"colorscale\":[[0.0,\"#0d0887\"],[0.1111111111111111,\"#46039f\"],[0.2222222222222222,\"#7201a8\"],[0.3333333333333333,\"#9c179e\"],[0.4444444444444444,\"#bd3786\"],[0.5555555555555556,\"#d8576b\"],[0.6666666666666666,\"#ed7953\"],[0.7777777777777778,\"#fb9f3a\"],[0.8888888888888888,\"#fdca26\"],[1.0,\"#f0f921\"]]}],\"surface\":[{\"type\":\"surface\",\"colorbar\":{\"outlinewidth\":0,\"ticks\":\"\"},\"colorscale\":[[0.0,\"#0d0887\"],[0.1111111111111111,\"#46039f\"],[0.2222222222222222,\"#7201a8\"],[0.3333333333333333,\"#9c179e\"],[0.4444444444444444,\"#bd3786\"],[0.5555555555555556,\"#d8576b\"],[0.6666666666666666,\"#ed7953\"],[0.7777777777777778,\"#fb9f3a\"],[0.8888888888888888,\"#fdca26\"],[1.0,\"#f0f921\"]]}],\"mesh3d\":[{\"type\":\"mesh3d\",\"colorbar\":{\"outlinewidth\":0,\"ticks\":\"\"}}],\"scatter\":[{\"fillpattern\":{\"fillmode\":\"overlay\",\"size\":10,\"solidity\":0.2},\"type\":\"scatter\"}],\"parcoords\":[{\"type\":\"parcoords\",\"line\":{\"colorbar\":{\"outlinewidth\":0,\"ticks\":\"\"}}}],\"scatterpolargl\":[{\"type\":\"scatterpolargl\",\"marker\":{\"colorbar\":{\"outlinewidth\":0,\"ticks\":\"\"}}}],\"bar\":[{\"error_x\":{\"color\":\"#2a3f5f\"},\"error_y\":{\"color\":\"#2a3f5f\"},\"marker\":{\"line\":{\"color\":\"#E5ECF6\",\"width\":0.5},\"pattern\":{\"fillmode\":\"overlay\",\"size\":10,\"solidity\":0.2}},\"type\":\"bar\"}],\"scattergeo\":[{\"type\":\"scattergeo\",\"marker\":{\"colorbar\":{\"outlinewidth\":0,\"ticks\":\"\"}}}],\"scatterpolar\":[{\"type\":\"scatterpolar\",\"marker\":{\"colorbar\":{\"outlinewidth\":0,\"ticks\":\"\"}}}],\"histogram\":[{\"marker\":{\"pattern\":{\"fillmode\":\"overlay\",\"size\":10,\"solidity\":0.2}},\"type\":\"histogram\"}],\"scattergl\":[{\"type\":\"scattergl\",\"marker\":{\"colorbar\":{\"outlinewidth\":0,\"ticks\":\"\"}}}],\"scatter3d\":[{\"type\":\"scatter3d\",\"line\":{\"colorbar\":{\"outlinewidth\":0,\"ticks\":\"\"}},\"marker\":{\"colorbar\":{\"outlinewidth\":0,\"ticks\":\"\"}}}],\"scattermapbox\":[{\"type\":\"scattermapbox\",\"marker\":{\"colorbar\":{\"outlinewidth\":0,\"ticks\":\"\"}}}],\"scatterternary\":[{\"type\":\"scatterternary\",\"marker\":{\"colorbar\":{\"outlinewidth\":0,\"ticks\":\"\"}}}],\"scattercarpet\":[{\"type\":\"scattercarpet\",\"marker\":{\"colorbar\":{\"outlinewidth\":0,\"ticks\":\"\"}}}],\"carpet\":[{\"aaxis\":{\"endlinecolor\":\"#2a3f5f\",\"gridcolor\":\"white\",\"linecolor\":\"white\",\"minorgridcolor\":\"white\",\"startlinecolor\":\"#2a3f5f\"},\"baxis\":{\"endlinecolor\":\"#2a3f5f\",\"gridcolor\":\"white\",\"linecolor\":\"white\",\"minorgridcolor\":\"white\",\"startlinecolor\":\"#2a3f5f\"},\"type\":\"carpet\"}],\"table\":[{\"cells\":{\"fill\":{\"color\":\"#EBF0F8\"},\"line\":{\"color\":\"white\"}},\"header\":{\"fill\":{\"color\":\"#C8D4E3\"},\"line\":{\"color\":\"white\"}},\"type\":\"table\"}],\"barpolar\":[{\"marker\":{\"line\":{\"color\":\"#E5ECF6\",\"width\":0.5},\"pattern\":{\"fillmode\":\"overlay\",\"size\":10,\"solidity\":0.2}},\"type\":\"barpolar\"}],\"pie\":[{\"automargin\":true,\"type\":\"pie\"}]},\"layout\":{\"autotypenumbers\":\"strict\",\"colorway\":[\"#636efa\",\"#EF553B\",\"#00cc96\",\"#ab63fa\",\"#FFA15A\",\"#19d3f3\",\"#FF6692\",\"#B6E880\",\"#FF97FF\",\"#FECB52\"],\"font\":{\"color\":\"#2a3f5f\"},\"hovermode\":\"closest\",\"hoverlabel\":{\"align\":\"left\"},\"paper_bgcolor\":\"white\",\"plot_bgcolor\":\"#E5ECF6\",\"polar\":{\"bgcolor\":\"#E5ECF6\",\"angularaxis\":{\"gridcolor\":\"white\",\"linecolor\":\"white\",\"ticks\":\"\"},\"radialaxis\":{\"gridcolor\":\"white\",\"linecolor\":\"white\",\"ticks\":\"\"}},\"ternary\":{\"bgcolor\":\"#E5ECF6\",\"aaxis\":{\"gridcolor\":\"white\",\"linecolor\":\"white\",\"ticks\":\"\"},\"baxis\":{\"gridcolor\":\"white\",\"linecolor\":\"white\",\"ticks\":\"\"},\"caxis\":{\"gridcolor\":\"white\",\"linecolor\":\"white\",\"ticks\":\"\"}},\"coloraxis\":{\"colorbar\":{\"outlinewidth\":0,\"ticks\":\"\"}},\"colorscale\":{\"sequential\":[[0.0,\"#0d0887\"],[0.1111111111111111,\"#46039f\"],[0.2222222222222222,\"#7201a8\"],[0.3333333333333333,\"#9c179e\"],[0.4444444444444444,\"#bd3786\"],[0.5555555555555556,\"#d8576b\"],[0.6666666666666666,\"#ed7953\"],[0.7777777777777778,\"#fb9f3a\"],[0.8888888888888888,\"#fdca26\"],[1.0,\"#f0f921\"]],\"sequentialminus\":[[0.0,\"#0d0887\"],[0.1111111111111111,\"#46039f\"],[0.2222222222222222,\"#7201a8\"],[0.3333333333333333,\"#9c179e\"],[0.4444444444444444,\"#bd3786\"],[0.5555555555555556,\"#d8576b\"],[0.6666666666666666,\"#ed7953\"],[0.7777777777777778,\"#fb9f3a\"],[0.8888888888888888,\"#fdca26\"],[1.0,\"#f0f921\"]],\"diverging\":[[0,\"#8e0152\"],[0.1,\"#c51b7d\"],[0.2,\"#de77ae\"],[0.3,\"#f1b6da\"],[0.4,\"#fde0ef\"],[0.5,\"#f7f7f7\"],[0.6,\"#e6f5d0\"],[0.7,\"#b8e186\"],[0.8,\"#7fbc41\"],[0.9,\"#4d9221\"],[1,\"#276419\"]]},\"xaxis\":{\"gridcolor\":\"white\",\"linecolor\":\"white\",\"ticks\":\"\",\"title\":{\"standoff\":15},\"zerolinecolor\":\"white\",\"automargin\":true,\"zerolinewidth\":2},\"yaxis\":{\"gridcolor\":\"white\",\"linecolor\":\"white\",\"ticks\":\"\",\"title\":{\"standoff\":15},\"zerolinecolor\":\"white\",\"automargin\":true,\"zerolinewidth\":2},\"scene\":{\"xaxis\":{\"backgroundcolor\":\"#E5ECF6\",\"gridcolor\":\"white\",\"linecolor\":\"white\",\"showbackground\":true,\"ticks\":\"\",\"zerolinecolor\":\"white\",\"gridwidth\":2},\"yaxis\":{\"backgroundcolor\":\"#E5ECF6\",\"gridcolor\":\"white\",\"linecolor\":\"white\",\"showbackground\":true,\"ticks\":\"\",\"zerolinecolor\":\"white\",\"gridwidth\":2},\"zaxis\":{\"backgroundcolor\":\"#E5ECF6\",\"gridcolor\":\"white\",\"linecolor\":\"white\",\"showbackground\":true,\"ticks\":\"\",\"zerolinecolor\":\"white\",\"gridwidth\":2}},\"shapedefaults\":{\"line\":{\"color\":\"#2a3f5f\"}},\"annotationdefaults\":{\"arrowcolor\":\"#2a3f5f\",\"arrowhead\":0,\"arrowwidth\":1},\"geo\":{\"bgcolor\":\"white\",\"landcolor\":\"#E5ECF6\",\"subunitcolor\":\"white\",\"showland\":true,\"showlakes\":true,\"lakecolor\":\"white\"},\"title\":{\"x\":0.05},\"mapbox\":{\"style\":\"light\"}}},\"xaxis\":{\"anchor\":\"y\",\"domain\":[0.0,1.0],\"title\":{\"text\":\"Category\"}},\"yaxis\":{\"anchor\":\"x\",\"domain\":[0.0,1.0],\"title\":{\"text\":\"Values\"}},\"legend\":{\"tracegroupgap\":0},\"margin\":{\"t\":60},\"barmode\":\"relative\"},                        {\"responsive\": true}                    ).then(function(){\n",
              "                            \n",
              "var gd = document.getElementById('d129c160-0d46-438e-8fe1-36d37a0d6275');\n",
              "var x = new MutationObserver(function (mutations, observer) {{\n",
              "        var display = window.getComputedStyle(gd).display;\n",
              "        if (!display || display === 'none') {{\n",
              "            console.log([gd, 'removed!']);\n",
              "            Plotly.purge(gd);\n",
              "            observer.disconnect();\n",
              "        }}\n",
              "}});\n",
              "\n",
              "// Listen for the removal of the full notebook cells\n",
              "var notebookContainer = gd.closest('#notebook-container');\n",
              "if (notebookContainer) {{\n",
              "    x.observe(notebookContainer, {childList: true});\n",
              "}}\n",
              "\n",
              "// Listen for the clearing of the current output cell\n",
              "var outputEl = gd.closest('.output');\n",
              "if (outputEl) {{\n",
              "    x.observe(outputEl, {childList: true});\n",
              "}}\n",
              "\n",
              "                        })                };                            </script>        </div>\n",
              "</body>\n",
              "</html>"
            ]
          },
          "metadata": {}
        }
      ],
      "source": [
        "import plotly.express as px\n",
        "data = {'Category': ['A', 'B', 'C'], 'Values': [10, 20, 15]}\n",
        "fig = px.bar(data, x='Category', y='Values')\n",
        "fig.show()"
      ]
    },
    {
      "cell_type": "markdown",
      "id": "edb2128d",
      "metadata": {
        "id": "edb2128d"
      },
      "source": [
        "### Q: Create a DataFrame and add a new column based on an existing column"
      ]
    },
    {
      "cell_type": "code",
      "execution_count": 28,
      "id": "f0b3e336",
      "metadata": {
        "colab": {
          "base_uri": "https://localhost:8080/"
        },
        "id": "f0b3e336",
        "outputId": "5c86480d-1ee2-4bb9-b6a1-35abbac28784"
      },
      "outputs": [
        {
          "output_type": "stream",
          "name": "stdout",
          "text": [
            "   A   B\n",
            "0  1  10\n",
            "1  2  20\n",
            "2  3  30\n"
          ]
        }
      ],
      "source": [
        "df = pd.DataFrame({'A': [1, 2, 3]})\n",
        "df['B'] = df['A'] * 10\n",
        "print(df)"
      ]
    },
    {
      "cell_type": "markdown",
      "id": "f1bf9026",
      "metadata": {
        "id": "f1bf9026"
      },
      "source": [
        "### Q: Write a program to perform element-wise multiplication of two NumPy arrays"
      ]
    },
    {
      "cell_type": "code",
      "execution_count": 29,
      "id": "2a546017",
      "metadata": {
        "colab": {
          "base_uri": "https://localhost:8080/"
        },
        "id": "2a546017",
        "outputId": "256cb73d-823c-411a-d348-271f37b5e163"
      },
      "outputs": [
        {
          "output_type": "stream",
          "name": "stdout",
          "text": [
            "[ 4 10 18]\n"
          ]
        }
      ],
      "source": [
        "a = np.array([1, 2, 3])\n",
        "b = np.array([4, 5, 6])\n",
        "result = a * b\n",
        "print(result)"
      ]
    },
    {
      "cell_type": "markdown",
      "id": "1c594dbb",
      "metadata": {
        "id": "1c594dbb"
      },
      "source": [
        "### Q: Create a line plot with multiple lines using Matplotlib"
      ]
    },
    {
      "cell_type": "code",
      "execution_count": 30,
      "id": "c82afb3f",
      "metadata": {
        "colab": {
          "base_uri": "https://localhost:8080/",
          "height": 430
        },
        "id": "c82afb3f",
        "outputId": "5923e719-d30f-4840-bddb-83c6752185bf"
      },
      "outputs": [
        {
          "output_type": "display_data",
          "data": {
            "text/plain": [
              "<Figure size 640x480 with 1 Axes>"
            ],
            "image/png": "[encoded data removed]"
          },
          "metadata": {}
        }
      ],
      "source": [
        "x = [1, 2, 3, 4]\n",
        "y1 = [1, 4, 9, 16]\n",
        "y2 = [2, 5, 10, 17]\n",
        "plt.plot(x, y1, label='Line 1')\n",
        "plt.plot(x, y2, label='Line 2')\n",
        "plt.legend()\n",
        "plt.show()"
      ]
    },
    {
      "cell_type": "markdown",
      "id": "3b81885a",
      "metadata": {
        "id": "3b81885a"
      },
      "source": [
        "### Q: Generate a Pandas DataFrame and filter rows where a column value is greater than a threshold"
      ]
    },
    {
      "cell_type": "code",
      "execution_count": 31,
      "id": "71046eb1",
      "metadata": {
        "colab": {
          "base_uri": "https://localhost:8080/"
        },
        "id": "71046eb1",
        "outputId": "f0aaea65-6e83-4a04-c273-53d7cb9386bf"
      },
      "outputs": [
        {
          "output_type": "stream",
          "name": "stdout",
          "text": [
            "   value\n",
            "1     20\n",
            "3     30\n"
          ]
        }
      ],
      "source": [
        "df = pd.DataFrame({'value': [10, 20, 5, 30, 15]})\n",
        "filtered_df = df[df['value'] > 15]\n",
        "print(filtered_df)"
      ]
    },
    {
      "cell_type": "markdown",
      "id": "c15d4e14",
      "metadata": {
        "id": "c15d4e14"
      },
      "source": [
        "### Q: Create a histogram using Seaborn to visualize a distribution"
      ]
    },
    {
      "cell_type": "code",
      "execution_count": 32,
      "id": "9e23d963",
      "metadata": {
        "colab": {
          "base_uri": "https://localhost:8080/",
          "height": 452
        },
        "id": "9e23d963",
        "outputId": "4d48ce4b-c0c7-47eb-e2bb-0dbb89803ee8"
      },
      "outputs": [
        {
          "output_type": "display_data",
          "data": {
            "text/plain": [
              "<Figure size 640x480 with 1 Axes>"
            ],
            "image/png": "[encoded data removed]"
          },
          "metadata": {}
        }
      ],
      "source": [
        "sns.histplot(data=[10, 20, 10, 30, 40, 10], bins=5)\n",
        "plt.title('Histogram')\n",
        "plt.show()"
      ]
    },
    {
      "cell_type": "markdown",
      "id": "2105f9d6",
      "metadata": {
        "id": "2105f9d6"
      },
      "source": [
        "### Q: Perform matrix multiplication using NumPy"
      ]
    },
    {
      "cell_type": "code",
      "execution_count": 33,
      "id": "d0067d62",
      "metadata": {
        "colab": {
          "base_uri": "https://localhost:8080/"
        },
        "id": "d0067d62",
        "outputId": "98272974-6b7b-4e40-9b68-b4ef392e4f27"
      },
      "outputs": [
        {
          "output_type": "stream",
          "name": "stdout",
          "text": [
            "[[19 22]\n",
            " [43 50]]\n"
          ]
        }
      ],
      "source": [
        "A = np.array([[1, 2], [3, 4]])\n",
        "B = np.array([[5, 6], [7, 8]])\n",
        "result = np.dot(A, B)\n",
        "print(result)"
      ]
    },
    {
      "cell_type": "markdown",
      "id": "e7bf546a",
      "metadata": {
        "id": "e7bf546a"
      },
      "source": [
        "### Q: Use Pandas to load a CSV file and display its first 5 rows"
      ]
    },
    {
      "cell_type": "code",
      "execution_count": 38,
      "id": "4b46ad48",
      "metadata": {
        "colab": {
          "base_uri": "https://localhost:8080/"
        },
        "id": "4b46ad48",
        "outputId": "5304c1f9-5335-4c55-a3cb-fc80dac2b673"
      },
      "outputs": [
        {
          "output_type": "stream",
          "name": "stdout",
          "text": [
            "Drive already mounted at /content/drive; to attempt to forcibly remount, call drive.mount(\"/content/drive\", force_remount=True).\n",
            "  Pw skills 1 Pw skills 2 Pw skills 3 Pw skills 4 Pw skills 5\n",
            "0  Test Sheet  Test Sheet  Test Sheet  Test Sheet  Test Sheet\n",
            "1  Test Sheet  Test Sheet  Test Sheet  Test Sheet  Test Sheet\n",
            "2  Test Sheet  Test Sheet  Test Sheet  Test Sheet  Test Sheet\n",
            "3  Test Sheet  Test Sheet  Test Sheet  Test Sheet  Test Sheet\n",
            "4  Test Sheet  Test Sheet  Test Sheet  Test Sheet  Test Sheet\n"
          ]
        }
      ],
      "source": [
        "import pandas as pd\n",
        "from google.colab import drive\n",
        "drive.mount('/content/drive')\n",
        "df = pd.read_csv('/content/drive/My Drive/Physics Wallah/pwskills.csv')\n",
        "print(df.head())"
      ]
    },
    {
      "cell_type": "markdown",
      "id": "1d8ecdec",
      "metadata": {
        "id": "1d8ecdec"
      },
      "source": [
        "### Q: Create a 3D scatter plot using Plotly"
      ]
    },
    {
      "cell_type": "code",
      "execution_count": 35,
      "id": "a39e9b67",
      "metadata": {
        "colab": {
          "base_uri": "https://localhost:8080/",
          "height": 542
        },
        "id": "a39e9b67",
        "outputId": "ed0fe8ec-c776-4018-961f-78d6085558a3"
      },
      "outputs": [
        {
          "output_type": "display_data",
          "data": {
            "text/html": [
              "<html>\n",
              "<head><meta charset=\"utf-8\" /></head>\n",
              "<body>\n",
              "    <div>            <script src=\"https://cdnjs.cloudflare.com/ajax/libs/mathjax/2.7.5/MathJax.js?config=TeX-AMS-MML_SVG\"></script><script type=\"text/javascript\">if (window.MathJax && window.MathJax.Hub && window.MathJax.Hub.Config) {window.MathJax.Hub.Config({SVG: {font: \"STIX-Web\"}});}</script>                <script type=\"text/javascript\">window.PlotlyConfig = {MathJaxConfig: 'local'};</script>\n",
              "        <script charset=\"utf-8\" src=\"https://cdn.plot.ly/plotly-2.35.2.min.js\"></script>                <div id=\"e4f47173-0a9e-42c0-8940-aee454cdc421\" class=\"plotly-graph-div\" style=\"height:525px; width:100%;\"></div>            <script type=\"text/javascript\">                                    window.PLOTLYENV=window.PLOTLYENV || {};                                    if (document.getElementById(\"e4f47173-0a9e-42c0-8940-aee454cdc421\")) {                    Plotly.newPlot(                        \"e4f47173-0a9e-42c0-8940-aee454cdc421\",                        [{\"hovertemplate\":\"x=%{x}\\u003cbr\\u003ey=%{y}\\u003cbr\\u003ez=%{z}\\u003cextra\\u003e\\u003c\\u002fextra\\u003e\",\"legendgroup\":\"\",\"marker\":{\"color\":\"#636efa\",\"symbol\":\"circle\"},\"mode\":\"markers\",\"name\":\"\",\"scene\":\"scene\",\"showlegend\":false,\"x\":[1,2,3,4],\"y\":[10,15,13,17],\"z\":[5,7,6,8],\"type\":\"scatter3d\"}],                        {\"template\":{\"data\":{\"histogram2dcontour\":[{\"type\":\"histogram2dcontour\",\"colorbar\":{\"outlinewidth\":0,\"ticks\":\"\"},\"colorscale\":[[0.0,\"#0d0887\"],[0.1111111111111111,\"#46039f\"],[0.2222222222222222,\"#7201a8\"],[0.3333333333333333,\"#9c179e\"],[0.4444444444444444,\"#bd3786\"],[0.5555555555555556,\"#d8576b\"],[0.6666666666666666,\"#ed7953\"],[0.7777777777777778,\"#fb9f3a\"],[0.8888888888888888,\"#fdca26\"],[1.0,\"#f0f921\"]]}],\"choropleth\":[{\"type\":\"choropleth\",\"colorbar\":{\"outlinewidth\":0,\"ticks\":\"\"}}],\"histogram2d\":[{\"type\":\"histogram2d\",\"colorbar\":{\"outlinewidth\":0,\"ticks\":\"\"},\"colorscale\":[[0.0,\"#0d0887\"],[0.1111111111111111,\"#46039f\"],[0.2222222222222222,\"#7201a8\"],[0.3333333333333333,\"#9c179e\"],[0.4444444444444444,\"#bd3786\"],[0.5555555555555556,\"#d8576b\"],[0.6666666666666666,\"#ed7953\"],[0.7777777777777778,\"#fb9f3a\"],[0.8888888888888888,\"#fdca26\"],[1.0,\"#f0f921\"]]}],\"heatmap\":[{\"type\":\"heatmap\",\"colorbar\":{\"outlinewidth\":0,\"ticks\":\"\"},\"colorscale\":[[0.0,\"#0d0887\"],[0.1111111111111111,\"#46039f\"],[0.2222222222222222,\"#7201a8\"],[0.3333333333333333,\"#9c179e\"],[0.4444444444444444,\"#bd3786\"],[0.5555555555555556,\"#d8576b\"],[0.6666666666666666,\"#ed7953\"],[0.7777777777777778,\"#fb9f3a\"],[0.8888888888888888,\"#fdca26\"],[1.0,\"#f0f921\"]]}],\"heatmapgl\":[{\"type\":\"heatmapgl\",\"colorbar\":{\"outlinewidth\":0,\"ticks\":\"\"},\"colorscale\":[[0.0,\"#0d0887\"],[0.1111111111111111,\"#46039f\"],[0.2222222222222222,\"#7201a8\"],[0.3333333333333333,\"#9c179e\"],[0.4444444444444444,\"#bd3786\"],[0.5555555555555556,\"#d8576b\"],[0.6666666666666666,\"#ed7953\"],[0.7777777777777778,\"#fb9f3a\"],[0.8888888888888888,\"#fdca26\"],[1.0,\"#f0f921\"]]}],\"contourcarpet\":[{\"type\":\"contourcarpet\",\"colorbar\":{\"outlinewidth\":0,\"ticks\":\"\"}}],\"contour\":[{\"type\":\"contour\",\"colorbar\":{\"outlinewidth\":0,\"ticks\":\"\"},\"colorscale\":[[0.0,\"#0d0887\"],[0.1111111111111111,\"#46039f\"],[0.2222222222222222,\"#7201a8\"],[0.3333333333333333,\"#9c179e\"],[0.4444444444444444,\"#bd3786\"],[0.5555555555555556,\"#d8576b\"],[0.6666666666666666,\"#ed7953\"],[0.7777777777777778,\"#fb9f3a\"],[0.8888888888888888,\"#fdca26\"],[1.0,\"#f0f921\"]]}],\"surface\":[{\"type\":\"surface\",\"colorbar\":{\"outlinewidth\":0,\"ticks\":\"\"},\"colorscale\":[[0.0,\"#0d0887\"],[0.1111111111111111,\"#46039f\"],[0.2222222222222222,\"#7201a8\"],[0.3333333333333333,\"#9c179e\"],[0.4444444444444444,\"#bd3786\"],[0.5555555555555556,\"#d8576b\"],[0.6666666666666666,\"#ed7953\"],[0.7777777777777778,\"#fb9f3a\"],[0.8888888888888888,\"#fdca26\"],[1.0,\"#f0f921\"]]}],\"mesh3d\":[{\"type\":\"mesh3d\",\"colorbar\":{\"outlinewidth\":0,\"ticks\":\"\"}}],\"scatter\":[{\"fillpattern\":{\"fillmode\":\"overlay\",\"size\":10,\"solidity\":0.2},\"type\":\"scatter\"}],\"parcoords\":[{\"type\":\"parcoords\",\"line\":{\"colorbar\":{\"outlinewidth\":0,\"ticks\":\"\"}}}],\"scatterpolargl\":[{\"type\":\"scatterpolargl\",\"marker\":{\"colorbar\":{\"outlinewidth\":0,\"ticks\":\"\"}}}],\"bar\":[{\"error_x\":{\"color\":\"#2a3f5f\"},\"error_y\":{\"color\":\"#2a3f5f\"},\"marker\":{\"line\":{\"color\":\"#E5ECF6\",\"width\":0.5},\"pattern\":{\"fillmode\":\"overlay\",\"size\":10,\"solidity\":0.2}},\"type\":\"bar\"}],\"scattergeo\":[{\"type\":\"scattergeo\",\"marker\":{\"colorbar\":{\"outlinewidth\":0,\"ticks\":\"\"}}}],\"scatterpolar\":[{\"type\":\"scatterpolar\",\"marker\":{\"colorbar\":{\"outlinewidth\":0,\"ticks\":\"\"}}}],\"histogram\":[{\"marker\":{\"pattern\":{\"fillmode\":\"overlay\",\"size\":10,\"solidity\":0.2}},\"type\":\"histogram\"}],\"scattergl\":[{\"type\":\"scattergl\",\"marker\":{\"colorbar\":{\"outlinewidth\":0,\"ticks\":\"\"}}}],\"scatter3d\":[{\"type\":\"scatter3d\",\"line\":{\"colorbar\":{\"outlinewidth\":0,\"ticks\":\"\"}},\"marker\":{\"colorbar\":{\"outlinewidth\":0,\"ticks\":\"\"}}}],\"scattermapbox\":[{\"type\":\"scattermapbox\",\"marker\":{\"colorbar\":{\"outlinewidth\":0,\"ticks\":\"\"}}}],\"scatterternary\":[{\"type\":\"scatterternary\",\"marker\":{\"colorbar\":{\"outlinewidth\":0,\"ticks\":\"\"}}}],\"scattercarpet\":[{\"type\":\"scattercarpet\",\"marker\":{\"colorbar\":{\"outlinewidth\":0,\"ticks\":\"\"}}}],\"carpet\":[{\"aaxis\":{\"endlinecolor\":\"#2a3f5f\",\"gridcolor\":\"white\",\"linecolor\":\"white\",\"minorgridcolor\":\"white\",\"startlinecolor\":\"#2a3f5f\"},\"baxis\":{\"endlinecolor\":\"#2a3f5f\",\"gridcolor\":\"white\",\"linecolor\":\"white\",\"minorgridcolor\":\"white\",\"startlinecolor\":\"#2a3f5f\"},\"type\":\"carpet\"}],\"table\":[{\"cells\":{\"fill\":{\"color\":\"#EBF0F8\"},\"line\":{\"color\":\"white\"}},\"header\":{\"fill\":{\"color\":\"#C8D4E3\"},\"line\":{\"color\":\"white\"}},\"type\":\"table\"}],\"barpolar\":[{\"marker\":{\"line\":{\"color\":\"#E5ECF6\",\"width\":0.5},\"pattern\":{\"fillmode\":\"overlay\",\"size\":10,\"solidity\":0.2}},\"type\":\"barpolar\"}],\"pie\":[{\"automargin\":true,\"type\":\"pie\"}]},\"layout\":{\"autotypenumbers\":\"strict\",\"colorway\":[\"#636efa\",\"#EF553B\",\"#00cc96\",\"#ab63fa\",\"#FFA15A\",\"#19d3f3\",\"#FF6692\",\"#B6E880\",\"#FF97FF\",\"#FECB52\"],\"font\":{\"color\":\"#2a3f5f\"},\"hovermode\":\"closest\",\"hoverlabel\":{\"align\":\"left\"},\"paper_bgcolor\":\"white\",\"plot_bgcolor\":\"#E5ECF6\",\"polar\":{\"bgcolor\":\"#E5ECF6\",\"angularaxis\":{\"gridcolor\":\"white\",\"linecolor\":\"white\",\"ticks\":\"\"},\"radialaxis\":{\"gridcolor\":\"white\",\"linecolor\":\"white\",\"ticks\":\"\"}},\"ternary\":{\"bgcolor\":\"#E5ECF6\",\"aaxis\":{\"gridcolor\":\"white\",\"linecolor\":\"white\",\"ticks\":\"\"},\"baxis\":{\"gridcolor\":\"white\",\"linecolor\":\"white\",\"ticks\":\"\"},\"caxis\":{\"gridcolor\":\"white\",\"linecolor\":\"white\",\"ticks\":\"\"}},\"coloraxis\":{\"colorbar\":{\"outlinewidth\":0,\"ticks\":\"\"}},\"colorscale\":{\"sequential\":[[0.0,\"#0d0887\"],[0.1111111111111111,\"#46039f\"],[0.2222222222222222,\"#7201a8\"],[0.3333333333333333,\"#9c179e\"],[0.4444444444444444,\"#bd3786\"],[0.5555555555555556,\"#d8576b\"],[0.6666666666666666,\"#ed7953\"],[0.7777777777777778,\"#fb9f3a\"],[0.8888888888888888,\"#fdca26\"],[1.0,\"#f0f921\"]],\"sequentialminus\":[[0.0,\"#0d0887\"],[0.1111111111111111,\"#46039f\"],[0.2222222222222222,\"#7201a8\"],[0.3333333333333333,\"#9c179e\"],[0.4444444444444444,\"#bd3786\"],[0.5555555555555556,\"#d8576b\"],[0.6666666666666666,\"#ed7953\"],[0.7777777777777778,\"#fb9f3a\"],[0.8888888888888888,\"#fdca26\"],[1.0,\"#f0f921\"]],\"diverging\":[[0,\"#8e0152\"],[0.1,\"#c51b7d\"],[0.2,\"#de77ae\"],[0.3,\"#f1b6da\"],[0.4,\"#fde0ef\"],[0.5,\"#f7f7f7\"],[0.6,\"#e6f5d0\"],[0.7,\"#b8e186\"],[0.8,\"#7fbc41\"],[0.9,\"#4d9221\"],[1,\"#276419\"]]},\"xaxis\":{\"gridcolor\":\"white\",\"linecolor\":\"white\",\"ticks\":\"\",\"title\":{\"standoff\":15},\"zerolinecolor\":\"white\",\"automargin\":true,\"zerolinewidth\":2},\"yaxis\":{\"gridcolor\":\"white\",\"linecolor\":\"white\",\"ticks\":\"\",\"title\":{\"standoff\":15},\"zerolinecolor\":\"white\",\"automargin\":true,\"zerolinewidth\":2},\"scene\":{\"xaxis\":{\"backgroundcolor\":\"#E5ECF6\",\"gridcolor\":\"white\",\"linecolor\":\"white\",\"showbackground\":true,\"ticks\":\"\",\"zerolinecolor\":\"white\",\"gridwidth\":2},\"yaxis\":{\"backgroundcolor\":\"#E5ECF6\",\"gridcolor\":\"white\",\"linecolor\":\"white\",\"showbackground\":true,\"ticks\":\"\",\"zerolinecolor\":\"white\",\"gridwidth\":2},\"zaxis\":{\"backgroundcolor\":\"#E5ECF6\",\"gridcolor\":\"white\",\"linecolor\":\"white\",\"showbackground\":true,\"ticks\":\"\",\"zerolinecolor\":\"white\",\"gridwidth\":2}},\"shapedefaults\":{\"line\":{\"color\":\"#2a3f5f\"}},\"annotationdefaults\":{\"arrowcolor\":\"#2a3f5f\",\"arrowhead\":0,\"arrowwidth\":1},\"geo\":{\"bgcolor\":\"white\",\"landcolor\":\"#E5ECF6\",\"subunitcolor\":\"white\",\"showland\":true,\"showlakes\":true,\"lakecolor\":\"white\"},\"title\":{\"x\":0.05},\"mapbox\":{\"style\":\"light\"}}},\"scene\":{\"domain\":{\"x\":[0.0,1.0],\"y\":[0.0,1.0]},\"xaxis\":{\"title\":{\"text\":\"x\"}},\"yaxis\":{\"title\":{\"text\":\"y\"}},\"zaxis\":{\"title\":{\"text\":\"z\"}}},\"legend\":{\"tracegroupgap\":0},\"margin\":{\"t\":60}},                        {\"responsive\": true}                    ).then(function(){\n",
              "                            \n",
              "var gd = document.getElementById('e4f47173-0a9e-42c0-8940-aee454cdc421');\n",
              "var x = new MutationObserver(function (mutations, observer) {{\n",
              "        var display = window.getComputedStyle(gd).display;\n",
              "        if (!display || display === 'none') {{\n",
              "            console.log([gd, 'removed!']);\n",
              "            Plotly.purge(gd);\n",
              "            observer.disconnect();\n",
              "        }}\n",
              "}});\n",
              "\n",
              "// Listen for the removal of the full notebook cells\n",
              "var notebookContainer = gd.closest('#notebook-container');\n",
              "if (notebookContainer) {{\n",
              "    x.observe(notebookContainer, {childList: true});\n",
              "}}\n",
              "\n",
              "// Listen for the clearing of the current output cell\n",
              "var outputEl = gd.closest('.output');\n",
              "if (outputEl) {{\n",
              "    x.observe(outputEl, {childList: true});\n",
              "}}\n",
              "\n",
              "                        })                };                            </script>        </div>\n",
              "</body>\n",
              "</html>"
            ]
          },
          "metadata": {}
        }
      ],
      "source": [
        "import plotly.express as px\n",
        "import pandas as pd\n",
        "data = pd.DataFrame({\n",
        "    'x': [1, 2, 3, 4],\n",
        "    'y': [10, 15, 13, 17],\n",
        "    'z': [5, 7, 6, 8]\n",
        "})\n",
        "fig = px.scatter_3d(data, x='x', y='y', z='z')\n",
        "fig.show()"
      ]
    }
  ],
  "metadata": {
    "colab": {
      "provenance": []
    },
    "language_info": {
      "name": "python"
    },
    "kernelspec": {
      "name": "python3",
      "display_name": "Python 3"
    }
  },
  "nbformat": 4,
  "nbformat_minor": 5
}